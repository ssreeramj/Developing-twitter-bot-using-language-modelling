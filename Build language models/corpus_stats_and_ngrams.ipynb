{
 "cells": [
  {
   "cell_type": "markdown",
   "metadata": {},
   "source": [
    "<h1> Corpus statistics, ngrams, Frequency Plot</h1>"
   ]
  },
  {
   "cell_type": "code",
   "execution_count": 38,
   "metadata": {},
   "outputs": [],
   "source": [
    "import os\n",
    "import nltk\n",
    "import matplotlib.pyplot as plt\n",
    "from nltk import ngrams\n",
    "import collections\n",
    "from collections import defaultdict\n",
    "import random \n",
    "import string\n",
    "from nltk.corpus import stopwords\n",
    "import numpy as np\n",
    "\n",
    "#set(stopwords.words('english'))\n",
    "%matplotlib inline\n",
    "stop_words =['','(',')','{','}','\\\\','--',':','-']\n",
    "punct=string.punctuation+\"``\"+\"''\""
   ]
  },
  {
   "cell_type": "markdown",
   "metadata": {},
   "source": [
    "<h4>The function will return text as string from news category of nltk brown corpus</h4>"
   ]
  },
  {
   "cell_type": "code",
   "execution_count": 5,
   "metadata": {},
   "outputs": [],
   "source": [
    "def read_filename(repo, num_articles=100):\n",
    "    files=[] #List\n",
    "    if os.path.isfile(repo):\n",
    "        files.append(repo)\n",
    "    elif os.path.isdir(repo):\n",
    "        files= [os.path.join(repo, f) for f in os.listdir(repo)[:num_articles] \n",
    "                if os.path.isfile(os.path.join(repo, f))]\n",
    "    else:\n",
    "        print('Provide correct file/directory information')\n",
    "        return\n",
    "    return files  "
   ]
  },
  {
   "cell_type": "code",
   "execution_count": 6,
   "metadata": {},
   "outputs": [],
   "source": [
    "def extract_file_content(filenames):\n",
    "    for file in filenames:\n",
    "        with open(file,'r') as fp:\n",
    "            yield fp.read().lower().replace('\\n',' ')"
   ]
  },
  {
   "cell_type": "markdown",
   "metadata": {},
   "source": [
    "<h4>Function return number of words in corpus </h4>"
   ]
  },
  {
   "cell_type": "code",
   "execution_count": 7,
   "metadata": {},
   "outputs": [],
   "source": [
    "def num_of_words(corpus):\n",
    "    num_words=0\n",
    "    if isinstance(corpus, list): \n",
    "        for file_content in extract_file_content(corpus):\n",
    "            words=[word for word in nltk.word_tokenize(file_content) if word not in punct and word not in stop_words]\n",
    "            num_words+= len(words)\n",
    "    elif type(corpus) is str:\n",
    "        words=[word for word in nltk.word_tokenize(corpus) if word not in punct and word not in stop_words]\n",
    "        num_words = len(words)\n",
    "    else:\n",
    "        print('corpus error')\n",
    "    return num_words"
   ]
  },
  {
   "cell_type": "markdown",
   "metadata": {},
   "source": [
    "<p>The function <code>create_tokens</code> takes as input a list of filenames or plain text and returns list of sentences.\n",
    "    The output <code>sents</code> is a list of lists structure <code>[[], [], ....]</code>. </p>\n",
    "<p>The Input Argument <code> corpus </code> may represent 1) list of filenames or 2) text. \n",
    "Each sentence itself is list of words. </p>\n",
    "<p><code>nltk.sent_tokenize():</code> Return list of sentences from the given file</p>\n",
    "<p><code>nltk.word_tokenize():</code> Return list of words from the given sentence/file </p>"
   ]
  },
  {
   "cell_type": "code",
   "execution_count": 34,
   "metadata": {},
   "outputs": [],
   "source": [
    "def create_tokens(corpus):\n",
    "    sents=[]\n",
    "    if isinstance(corpus, list):\n",
    "        for file_content in extract_file_content(corpus):\n",
    "            for sent in nltk.sent_tokenize(file_content):\n",
    "                token= [word for word in nltk.word_tokenize(sent) if word not in punct and word not in stopwords]\n",
    "                sents.append(token)\n",
    "    elif type(corpus) is str:\n",
    "        for sent in nltk.sent_tokenize(corpus):\n",
    "            token= [word for word in nltk.word_tokenize(sent) if word not in punct and word not in stopwords]\n",
    "            sents.append(token)\n",
    "    else:\n",
    "        print('Corpus problem')      \n",
    "    return sents"
   ]
  },
  {
   "cell_type": "markdown",
   "metadata": {},
   "source": []
  },
  {
   "cell_type": "code",
   "execution_count": 36,
   "metadata": {},
   "outputs": [],
   "source": [
    "def train_test_split(sents, ratio=0.99):\n",
    "    if len(sents) > 0:\n",
    "        spl = int(ratio*len(sents))\n",
    "        train_corpus = sents[:spl]\n",
    "        test_corpus = sents[spl:]\n",
    "    else:\n",
    "        print('Corpus not created')\n",
    "    train_corpus = [word for sent in train_corpus for word in sent]\n",
    "    test_corpus = [word for sent in test_corpus for word in sent]\n",
    "    return train_corpus, test_corpus"
   ]
  },
  {
   "cell_type": "code",
   "execution_count": 37,
   "metadata": {},
   "outputs": [],
   "source": [
    "def cross_validation(sents, k=5):\n",
    "    inx=0\n",
    "    fold_size=int(len(sents)/k)\n",
    "    for i in range(1, k+1):\n",
    "        test_sents=sents[inx:inx+fold_size]\n",
    "        train_sents=sents[0:inx]+sents[inx+fold_size:]\n",
    "        inx=i*fold_size\n",
    "        test_sents = [word for sent in test_sents for word in sent]\n",
    "        train_sents = [word for sent in train_sents for word in sent]\n",
    "        yield train_sents, test_sents"
   ]
  },
  {
   "cell_type": "markdown",
   "metadata": {},
   "source": [
    "<h4>Function return number of unique words (vocabulary size) in corpus </h4>\n",
    "<p><code>nltk.word_tokenizer(word_seq)</code> tokenizes a sentence into word list</p>"
   ]
  },
  {
   "cell_type": "code",
   "execution_count": 8,
   "metadata": {},
   "outputs": [],
   "source": [
    "def num_of_unique_words(corpus):\n",
    "    words=[]\n",
    "    if isinstance(corpus, list):  \n",
    "        for file_content in extract_file_content(corpus):\n",
    "            words+=[word for word in nltk.word_tokenize(file_content) if word not in punct and word not in stop_words]\n",
    "    elif type(corpus) is str:\n",
    "        words=[word for word in nltk.word_tokenize(corpus) if word not in punct and word not in stop_words]\n",
    "    else:\n",
    "        print('corpus error')\n",
    "    unique_words=set(words)\n",
    "    return len(unique_words)"
   ]
  },
  {
   "cell_type": "markdown",
   "metadata": {},
   "source": [
    "<h4>Function return number of sentences in the corpus </h4>\n",
    "<code>nltk.sent_tokenizer(word_seq)</code> tokenizes a raw text into sentence list"
   ]
  },
  {
   "cell_type": "code",
   "execution_count": 9,
   "metadata": {},
   "outputs": [],
   "source": [
    "def num_sentences(corpus):\n",
    "    num_sents=0\n",
    "    if isinstance(corpus, list):\n",
    "        for file_content in extract_file_content(corpus):\n",
    "            num_sents+=len(nltk.sent_tokenize(file_content))\n",
    "    elif type(corpus) is str:\n",
    "        num_sents = len(nltk.sent_tokenize(corpus))\n",
    "    else:\n",
    "        print('corpus error')  \n",
    "    return num_sents"
   ]
  },
  {
   "cell_type": "markdown",
   "metadata": {},
   "source": [
    "<h4>Function plot graph of rank vs. frequency of word in corpus </h4>\n",
    "<p><code>freq_dist</code> iis a dictionary object that stores the (key, value) pairs and maintain \n",
    "    the order of the key, value pair.</p>"
   ]
  },
  {
   "cell_type": "code",
   "execution_count": 10,
   "metadata": {},
   "outputs": [],
   "source": [
    "def zipf_plot(freq_dist):\n",
    "    item=freq_dist.popitem()\n",
    "    freq_dist=dict(reversed(sorted(freq_dist.items(), key=lambda item: item[1])))\n",
    "    #plt.figure(figsize=(15,8))\n",
    "    plt.rcParams['figure.figsize'] = (10,5)\n",
    "    plt.rcParams['font.size'] = 10\n",
    "    plt.plot(list(range(1,len(freq_dist)+1)),np.log(list((freq_dist.values())))) \n",
    "    plt.xlabel('Word Rank')\n",
    "    plt.ylabel('log of Frequency')\n",
    "    plt.title(\"{0}_grams distribution plot\".format(len(item[0])))\n",
    "    plt.show()\n",
    "    return"
   ]
  },
  {
   "cell_type": "markdown",
   "metadata": {},
   "source": [
    "<h4>Function return ngrams list of corpus</h4>\n",
    "<p><code>nltk.ngrams</code>: This function is available in nltk which require two arguments. \n",
    "First argument is list, which contains all corpus words and second argument is ngrams order (i.e 1 for unigrams, 2 for bigrams, 3 for trigrams) and returns list generator.\n",
    "</p>"
   ]
  },
  {
   "cell_type": "code",
   "execution_count": 11,
   "metadata": {},
   "outputs": [],
   "source": [
    "def corpus_ngarms(corpus, ngram=1):\n",
    "    ngram_lst=[]\n",
    "    if isinstance(corpus, list):\n",
    "        for file_content in extract_file_content(corpus):\n",
    "            ngram_lst+=nltk.ngrams([word for word in nltk.word_tokenize(file_content) \n",
    "                                    if word not in punct and word not in stop_words], ngram)\n",
    "    elif type(corpus) is str:\n",
    "        ngram_lst+=nltk.ngrams([word for word in nltk.word_tokenize(corpus) \n",
    "                                    if word not in punct and word not in stop_words], ngram)\n",
    "                \n",
    "    else:\n",
    "        print('corpus error')\n",
    "    return ngram_lst"
   ]
  },
  {
   "cell_type": "markdown",
   "metadata": {},
   "source": [
    "<h4>Function calculates ngrams frequency distribution in the corpus </h4>\n",
    "<p><code>defaultdict</code>: The dictionary stores the data in key, value pairs and \n",
    "when key is not available it insert the key with default value.</p>"
   ]
  },
  {
   "cell_type": "code",
   "execution_count": 12,
   "metadata": {},
   "outputs": [],
   "source": [
    "def freq_dist(corpus, ngram=1):\n",
    "    freq_dist=defaultdict(int)\n",
    "    if isinstance(corpus, list):\n",
    "        for file_content in extract_file_content(corpus):\n",
    "            for w in nltk.ngrams([word for word in nltk.word_tokenize(file_content) \n",
    "                                  if word not in punct and word not in stop_words],ngram):\n",
    "                freq_dist[w]=freq_dist.get(w,0) + 1\n",
    "    elif type(corpus) is str:\n",
    "        for w in nltk.ngrams([word for word in nltk.word_tokenize(corpus) \n",
    "                                  if word not in punct and word not in stop_words],ngram):\n",
    "            freq_dist[w]=freq_dist.get(w,0) + 1\n",
    "    else:\n",
    "        print('corpus error')\n",
    "    return freq_dist"
   ]
  },
  {
   "cell_type": "markdown",
   "metadata": {},
   "source": [
    "<h4>Function return top most commom ngrams in the corpus </h4>"
   ]
  },
  {
   "cell_type": "code",
   "execution_count": 13,
   "metadata": {},
   "outputs": [],
   "source": [
    "def top_most_common_words(corpus, ngram=1, num_com_words=100):\n",
    "        freq_dist={}\n",
    "        temp=[]\n",
    "        if isinstance(corpus, list):\n",
    "            for file_content in extract_file_content(corpus):\n",
    "                for w in nltk.ngrams([word for word in nltk.word_tokenize(file_content) \n",
    "                                  if word not in punct and word not in stop_words],ngram):\n",
    "                    freq_dist[w]=freq_dist.get(w,0) + 1\n",
    "        elif type(corpus) is str:\n",
    "            for w in nltk.ngrams([word for word in nltk.word_tokenize(corpus) \n",
    "                                  if word not in punct and word not in stop_words],ngram):\n",
    "                freq_dist[w]=freq_dist.get(w,0) + 1\n",
    "        else:\n",
    "            print('corpus error')\n",
    "            return\n",
    "        for i, item in enumerate(reversed(sorted(freq_dist.items(), key=lambda item: item[1]))):\n",
    "            temp.append(item)\n",
    "            if i >= num_com_words:\n",
    "                break\n",
    "        return temp"
   ]
  },
  {
   "cell_type": "markdown",
   "metadata": {},
   "source": [
    "<h4>Function return average number of words in the sentences</h4>"
   ]
  },
  {
   "cell_type": "code",
   "execution_count": 14,
   "metadata": {},
   "outputs": [],
   "source": [
    "def avg_sent_len(filenames):\n",
    "    words=num_of_words(filenames)\n",
    "    sents=num_sentences(filenames)\n",
    "    return words/sents"
   ]
  },
  {
   "cell_type": "markdown",
   "metadata": {},
   "source": [
    "<h3> Wikipedia Corpus Statistics</h3>"
   ]
  },
  {
   "cell_type": "code",
   "execution_count": 15,
   "metadata": {},
   "outputs": [],
   "source": [
    "filenames=read_filename('../corpus.txt')"
   ]
  },
  {
   "cell_type": "code",
   "execution_count": 16,
   "metadata": {},
   "outputs": [],
   "source": [
    "#corpus_content=list(extract_file_conten(filenames))[0]"
   ]
  },
  {
   "cell_type": "code",
   "execution_count": 17,
   "metadata": {},
   "outputs": [
    {
     "data": {
      "text/plain": [
       "1"
      ]
     },
     "execution_count": 17,
     "metadata": {},
     "output_type": "execute_result"
    }
   ],
   "source": [
    "len(filenames)"
   ]
  },
  {
   "cell_type": "code",
   "execution_count": 22,
   "metadata": {},
   "outputs": [
    {
     "data": {
      "text/plain": [
       "672893"
      ]
     },
     "execution_count": 22,
     "metadata": {},
     "output_type": "execute_result"
    }
   ],
   "source": [
    "num_of_words(filenames)"
   ]
  },
  {
   "cell_type": "code",
   "execution_count": 23,
   "metadata": {},
   "outputs": [
    {
     "data": {
      "text/plain": [
       "21369"
      ]
     },
     "execution_count": 23,
     "metadata": {},
     "output_type": "execute_result"
    }
   ],
   "source": [
    "num_of_unique_words(filenames)"
   ]
  },
  {
   "cell_type": "code",
   "execution_count": 24,
   "metadata": {},
   "outputs": [
    {
     "data": {
      "text/plain": [
       "40992"
      ]
     },
     "execution_count": 24,
     "metadata": {},
     "output_type": "execute_result"
    }
   ],
   "source": [
    "num_sentences(filenames)"
   ]
  },
  {
   "cell_type": "code",
   "execution_count": 25,
   "metadata": {},
   "outputs": [
    {
     "data": {
      "text/plain": [
       "16.41522736143638"
      ]
     },
     "execution_count": 25,
     "metadata": {},
     "output_type": "execute_result"
    }
   ],
   "source": [
    "avg_sent_len(filenames)"
   ]
  },
  {
   "cell_type": "code",
   "execution_count": 26,
   "metadata": {},
   "outputs": [],
   "source": [
    "f_dist=freq_dist(filenames,1)"
   ]
  },
  {
   "cell_type": "code",
   "execution_count": 27,
   "metadata": {},
   "outputs": [
    {
     "data": {
      "image/png": "[encoded data removed]",
      "text/plain": [
       "<Figure size 720x360 with 1 Axes>"
      ]
     },
     "metadata": {
      "needs_background": "light"
     },
     "output_type": "display_data"
    }
   ],
   "source": [
    "zipf_plot(f_dist)"
   ]
  },
  {
   "cell_type": "code",
   "execution_count": 28,
   "metadata": {},
   "outputs": [],
   "source": [
    "#f_dist"
   ]
  },
  {
   "cell_type": "code",
   "execution_count": 29,
   "metadata": {},
   "outputs": [],
   "source": [
    "ngram_lst=corpus_ngarms(filenames, ngram=2)"
   ]
  },
  {
   "cell_type": "code",
   "execution_count": 30,
   "metadata": {},
   "outputs": [
    {
     "data": {
      "text/plain": [
       "[('long', 'overdue'),\n",
       " ('overdue', 'but'),\n",
       " ('but', 'good'),\n",
       " ('good', 'to'),\n",
       " ('to', 'see'),\n",
       " ('see', 'the'),\n",
       " ('the', 'senate'),\n",
       " ('senate', 'approve'),\n",
       " ('approve', 'much-needed'),\n",
       " ('much-needed', 'aid'),\n",
       " ('aid', 'for'),\n",
       " ('for', 'flint'),\n",
       " ('flint', 'time'),\n",
       " ('time', 'for'),\n",
       " ('for', 'the'),\n",
       " ('the', 'house'),\n",
       " ('house', 'to'),\n",
       " ('to', 'do'),\n",
       " ('do', 'the'),\n",
       " ('the', 'same')]"
      ]
     },
     "execution_count": 30,
     "metadata": {},
     "output_type": "execute_result"
    }
   ],
   "source": [
    "ngram_lst[:20]"
   ]
  },
  {
   "cell_type": "code",
   "execution_count": 31,
   "metadata": {},
   "outputs": [
    {
     "data": {
      "text/plain": [
       "[(('’', 's'), 2670),\n",
       " (('of', 'the'), 1918),\n",
       " (('in', 'the'), 1840),\n",
       " (('to', 'the'), 1445),\n",
       " (('on', 'the'), 1387),\n",
       " (('we', 'need'), 1244),\n",
       " (('it', \"'s\"), 1224),\n",
       " (('we', 'must'), 1119),\n",
       " (('for', 'the'), 1111),\n",
       " (('’', 't'), 1006),\n",
       " (('we', 'can'), 974)]"
      ]
     },
     "execution_count": 31,
     "metadata": {},
     "output_type": "execute_result"
    }
   ],
   "source": [
    "top_most_common_words(filenames, 2, 10)"
   ]
  },
  {
   "cell_type": "code",
   "execution_count": null,
   "metadata": {},
   "outputs": [],
   "source": []
  }
 ],
 "metadata": {
  "kernelspec": {
   "display_name": "Python 3",
   "language": "python",
   "name": "python3"
  },
  "language_info": {
   "codemirror_mode": {
    "name": "ipython",
    "version": 3
   },
   "file_extension": ".py",
   "mimetype": "text/x-python",
   "name": "python",
   "nbconvert_exporter": "python",
   "pygments_lexer": "ipython3",
   "version": "3.6.9"
  }
 },
 "nbformat": 4,
 "nbformat_minor": 4
}
