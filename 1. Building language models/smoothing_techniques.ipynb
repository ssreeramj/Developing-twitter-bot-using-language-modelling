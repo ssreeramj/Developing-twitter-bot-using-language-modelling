{
 "cells": [
  {
   "cell_type": "markdown",
   "metadata": {},
   "source": [
    "<h1>Language Model Without Smoothing </h1>"
   ]
  },
  {
   "cell_type": "code",
   "execution_count": 1,
   "metadata": {},
   "outputs": [],
   "source": [
    "import nltk\n",
    "import os\n",
    "import string\n",
    "from nltk.util import ngrams\n",
    "from math import log\n",
    "import matplotlib.pyplot as plt\n",
    "%matplotlib inline\n",
    "\n",
    "stopwords=['','(',')','{','}','\\\\','--',':','-',\"'s\"]\n",
    "punct=string.punctuation+\"``\"+\"''\"+'\"'"
   ]
  },
  {
   "cell_type": "code",
   "execution_count": 2,
   "metadata": {},
   "outputs": [],
   "source": [
    "#nltk.corpus.brown.categories() # give the available brown corpus categories \n",
    "#os.listdir(nltk.data.find(\"corpora\"))"
   ]
  },
  {
   "cell_type": "markdown",
   "metadata": {},
   "source": [
    "<h3> NLTK Brown Corpus </h3>\n",
    "<p>Function takes catgories as argument and return pre-processed brown corpus text as string.</p>\n",
    "<p>Inorder to know the available categorise of Brown Corpus type</p><br/>\n",
    "<code>nltk.corpus.brown.categories()</code>"
   ]
  },
  {
   "cell_type": "code",
   "execution_count": 3,
   "metadata": {},
   "outputs": [
    {
     "data": {
      "text/plain": [
       "['adventure',\n",
       " 'belles_lettres',\n",
       " 'editorial',\n",
       " 'fiction',\n",
       " 'government',\n",
       " 'hobbies',\n",
       " 'humor',\n",
       " 'learned',\n",
       " 'lore',\n",
       " 'mystery',\n",
       " 'news',\n",
       " 'religion',\n",
       " 'reviews',\n",
       " 'romance',\n",
       " 'science_fiction']"
      ]
     },
     "execution_count": 3,
     "metadata": {},
     "output_type": "execute_result"
    }
   ],
   "source": [
    "nltk.corpus.brown.categories()"
   ]
  },
  {
   "cell_type": "code",
   "execution_count": 4,
   "metadata": {},
   "outputs": [],
   "source": [
    "def nltk_brown_corpus(category='news'):\n",
    "    sents=[]\n",
    "    sentences=nltk.corpus.brown.sents(categories=category)\n",
    "    for sent in sentences:\n",
    "        sent=\" \".join([word.lower() for word in sent if word not in punct and word not in stopwords])\n",
    "        sents.append(sent)\n",
    "    text=\"\\n\".join(sents)\n",
    "    return text"
   ]
  },
  {
   "cell_type": "code",
   "execution_count": 5,
   "metadata": {},
   "outputs": [],
   "source": [
    "def brown_corpus_categories_text():\n",
    "    text=''\n",
    "    for category in nltk.corpus.brown.categories():\n",
    "        text+= nltk_brown_corpus(category=category)\n",
    "    return text"
   ]
  },
  {
   "cell_type": "code",
   "execution_count": 6,
   "metadata": {},
   "outputs": [],
   "source": [
    "#nltk.corpus.brown.sents(categories='news')"
   ]
  },
  {
   "cell_type": "markdown",
   "metadata": {},
   "source": [
    "<p>The Function takes directory containing files or directly file path as first argument i.e repo. \n",
    "Second parameter specifies number of file to read from directory if <code>repo</code> is assigned with directory, i.e <code>num_articles</code>.\n",
    "By default it is set to 100 files.</p>"
   ]
  },
  {
   "cell_type": "code",
   "execution_count": 7,
   "metadata": {},
   "outputs": [],
   "source": [
    "def read_filename(repo, num_articles=100):\n",
    "    files=[]\n",
    "    if os.path.isfile(repo):\n",
    "        files.append(repo)\n",
    "    elif os.path.isdir(repo):\n",
    "        files= [os.path.join(repo, f) for f in os.listdir(repo)[:num_articles] if os.path.isfile(os.path.join(repo, f))]\n",
    "    else:\n",
    "        print('Provide correct file/directory information')\n",
    "        return\n",
    "    return files  "
   ]
  },
  {
   "cell_type": "markdown",
   "metadata": {},
   "source": [
    "<p>The Function is written to read files available in directory. It will return an iterator over the \n",
    "file contents. </p>"
   ]
  },
  {
   "cell_type": "code",
   "execution_count": 8,
   "metadata": {},
   "outputs": [],
   "source": [
    "def extract_file_content(filenames):\n",
    "    for file in filenames:\n",
    "        with open(file,'r') as fp:\n",
    "            yield fp.read().lower().replace('\\n',' ')"
   ]
  },
  {
   "cell_type": "markdown",
   "metadata": {},
   "source": [
    "<p>The function <code>create_tokens</code> takes as input a list of filenames or plain text and returns list of sentences.\n",
    "    The output <code>sents</code> is a list of lists structure <code>[[], [], ....]</code>. </p>\n",
    "<p>The Input Argument <code> corpus </code> may represent 1) list of filenames or 2) text. \n",
    "Each sentence itself is list of words. </p>\n",
    "<p><code>nltk.sent_tokenize():</code> Return list of sentences from the given file</p>\n",
    "<p><code>nltk.word_tokenize():</code> Return list of words from the given sentence/file </p>"
   ]
  },
  {
   "cell_type": "code",
   "execution_count": 9,
   "metadata": {},
   "outputs": [],
   "source": [
    "def create_tokens(corpus):\n",
    "    sents=[]\n",
    "    if isinstance(corpus, list):\n",
    "        for file_content in extract_file_content(corpus):\n",
    "            for sent in nltk.sent_tokenize(file_content):\n",
    "                token= [word for word in nltk.word_tokenize(sent) if word not in punct and word not in stopwords]\n",
    "                sents.append(token)\n",
    "    elif type(corpus) is str:\n",
    "        for sent in nltk.sent_tokenize(corpus):\n",
    "            token= [word for word in nltk.word_tokenize(sent) if word not in punct and word not in stopwords]\n",
    "            sents.append(token)\n",
    "    else:\n",
    "        print('Corpus problem')      \n",
    "    return sents"
   ]
  },
  {
   "cell_type": "markdown",
   "metadata": {},
   "source": [
    "<p>Split sentences into training and test set based on <code>ratio</code> parameter. \n",
    "By deafult it is set to 99%</p>"
   ]
  },
  {
   "cell_type": "code",
   "execution_count": 135,
   "metadata": {},
   "outputs": [],
   "source": [
    "def train_test_split(sents, ratio=0.99):\n",
    "    if len(sents) > 0:\n",
    "        spl = int(ratio*len(sents))\n",
    "        train_corpus = sents[:spl]\n",
    "        test_corpus = sents[spl:]\n",
    "    else:\n",
    "        print('Corpus not created')\n",
    "    train_corpus = [word for sent in train_corpus for word in sent]\n",
    "    test_corpus = [word for sent in test_corpus for word in sent]\n",
    "    return train_corpus, test_corpus"
   ]
  },
  {
   "cell_type": "code",
   "execution_count": 136,
   "metadata": {},
   "outputs": [],
   "source": [
    "def cross_validation(sents, k=5):\n",
    "    inx=0\n",
    "    fold_size=int(len(sents)/k)\n",
    "    for i in range(1, k+1):\n",
    "        test_sents=sents[inx:inx+fold_size]\n",
    "        train_sents=sents[0:inx]+sents[inx+fold_size:]\n",
    "        inx=i*fold_size\n",
    "        test_sents = [word for sent in test_sents for word in sent]\n",
    "        train_sents = [word for sent in train_sents for word in sent]\n",
    "        yield train_sents, test_sents"
   ]
  },
  {
   "cell_type": "markdown",
   "metadata": {},
   "source": [
    "<p> The Function takes list of words or raw text string as <code>corpus</code>. Based on <code>ngram</code> value \n",
    "given it will return frequency distribution of ngrams.</p>\n",
    "<p><code>nltk.FreqDist:</code> Takes argument as list or list generator and returns dictionary with key as ngrams \n",
    "    and value as frequency.</p>\n",
    "<p><code>nltk.ConditionalFreqDist:</code> Returns dictionary of dictionary(FreqDist) for bigrams. First dictionary \n",
    "contains key as context word and dictionary as value. The value dictionary contains word following the context \n",
    "word as key and frequency as value. </p>\n",
    "<p><b>Example:</b><code>FreqDist(word2|word1)=X</code> is represented as <code>{(word1):{(word2):X}}</code></p> "
   ]
  },
  {
   "cell_type": "code",
   "execution_count": 196,
   "metadata": {},
   "outputs": [],
   "source": [
    "def ngram_freq_dist(corpus, ngram=1):\n",
    "    if isinstance(corpus, list) and len(corpus)>0:\n",
    "        train_corpus=corpus\n",
    "    elif type(corpus) is str:\n",
    "        train_corpus=nltk.word_tokenize(corpus)\n",
    "    else:\n",
    "        print('Error')\n",
    "        return None\n",
    "    \n",
    "    freq_dist=None\n",
    "    if ngram==1:\n",
    "        freq_dist = nltk.FreqDist(train_corpus) #freq distibution for unigrams\n",
    "    elif ngram==2:\n",
    "        freq_dist = nltk.ConditionalFreqDist(nltk.ngrams(train_corpus, 2))# conditional freq dist for bigrams\n",
    "    elif ngram==3:\n",
    "        trigrams_as_bigrams=[]\n",
    "        trigram =[a for a in ngrams(train_corpus, 3)]\n",
    "        trigrams_as_bigrams.extend([((t[0],t[1]), t[2]) for t in trigram])\n",
    "        freq_dist = nltk.ConditionalFreqDist(trigrams_as_bigrams)# conditional freq dist for trigrams\n",
    "    else:\n",
    "        print('Supported upto trigrams only')\n",
    "    return freq_dist"
   ]
  },
  {
   "cell_type": "markdown",
   "metadata": {},
   "source": [
    "<h4>Probablity calculation of ngrams</h4>\n",
    "<p>The function returns probablity of given ngram based on conditional probality distribution \n",
    "<code>cpd_1gram</code>. The conditional probablity distribution is obtained based on \n",
    "conditional frequency distibution. </p>"
   ]
  },
  {
   "cell_type": "code",
   "execution_count": 138,
   "metadata": {},
   "outputs": [],
   "source": [
    "def unigram_prob(word, cpd_1gram):\n",
    "    if cpd_1gram is not None:\n",
    "        return cpd_1gram.prob(word)\n",
    "    else:\n",
    "        print('Probablity distribution is not available')\n",
    "    \n",
    "def conditional_bigram_prob(word1, word2, cprob_2gram):\n",
    "    if cprob_2gram is not None:\n",
    "        #cprob_2gram = nltk.ConditionalProbDist(cfreq_2gram, nltk.MLEProbDist)\n",
    "        cpd=cprob_2gram[word1].prob(word2)\n",
    "    else:\n",
    "        print('Probablity distribution is not available')\n",
    "    return cpd\n",
    "\n",
    "def conditional_trigram_prob(w1, w2, w3, cprob_3gram):\n",
    "    if cprob_3gram is not None:\n",
    "        #cprob_3gram=nltk.ConditionalProbDist(cfreq_3gram, nltk.MLEProbDist)\n",
    "        cprob_3gram=cprob_3gram[(w1, w2)].prob(w3)\n",
    "    else:\n",
    "        print('Probablity distribution is not available')\n",
    "    return cprob_3gram"
   ]
  },
  {
   "cell_type": "markdown",
   "metadata": {},
   "source": [
    "<h4>Find probable words given context word using bigram and trigram model </h4>\n",
    "<p>The function takes <code>sequence</code>. Extract context word given <code>ngram</code> and return \n",
    "probable words appearing after context word. Also plot bar graph for top most following <code>num</code> \n",
    "words showing their frequency </p>"
   ]
  },
  {
   "cell_type": "code",
   "execution_count": 139,
   "metadata": {},
   "outputs": [],
   "source": [
    "def probable_words(sequence, cpd, ngram=2, num=10):\n",
    "    context=nltk.word_tokenize(sequence)\n",
    "    temp=[]\n",
    "    if ngram==2 and len(cpd) > 0:\n",
    "        context_word=context[-1:]\n",
    "        #cpd = nltk.ConditionalProbDist(cfd, nltk.MLEProbDist)\n",
    "        fd=cpd[context_word[0]].freqdist() # Gives dictionary which shows following words and their frequency given \n",
    "        # context_word[0]\n",
    "        if len(fd) > 0:\n",
    "            for i, item in enumerate(reversed(sorted(fd.items(), key=lambda item: item[1]))):\n",
    "                temp.append(item)\n",
    "                if i > num:\n",
    "                    break\n",
    "        else:\n",
    "            print('No probable words available in corpus following the last word')\n",
    "    elif ngram==3 and len(cpd) > 0:\n",
    "        context_word=context[-2:]\n",
    "        #cpd = nltk.ConditionalProbDist(cfd, nltk.MLEProbDist)\n",
    "        fd=cpd[(context_word[0],context_word[1])].freqdist() \n",
    "        if len(fd) > 0:\n",
    "            for i, item in enumerate(reversed(sorted(fd.items(), key=lambda item: item[1]))):\n",
    "                temp.append(item)\n",
    "                if i > num:\n",
    "                    break\n",
    "        else:\n",
    "            print('No probable words available in corpus following the last word')\n",
    "        \n",
    "    else:\n",
    "        print('Support only for bigrams and trigrams')\n",
    "    if len(temp) > 0:\n",
    "        probable_word_plot(temp, \" \".join(context_word), num)\n",
    "    return temp"
   ]
  },
  {
   "cell_type": "markdown",
   "metadata": {},
   "source": [
    "<h4>Function Plot the probable words given context word/s </h4>"
   ]
  },
  {
   "cell_type": "code",
   "execution_count": 140,
   "metadata": {},
   "outputs": [],
   "source": [
    "def probable_word_plot(freq_dist, context='', num=10):\n",
    "    words=[]\n",
    "    values=[]\n",
    "    if len(freq_dist) > num:\n",
    "        for a in freq_dist[:num]:\n",
    "            words.append(a[0])\n",
    "            values.append(a[1])\n",
    "    else:\n",
    "        for a in freq_dist:\n",
    "            words.append(a[0])\n",
    "            values.append(a[1])\n",
    "    plt.rcParams['figure.figsize'] = (15,6)\n",
    "    plt.rcParams['font.size'] = 10\n",
    "    plt.bar(words, values, width=0.10)\n",
    "    plt.title('Probable Words given context: \"{0}\"'.format(context))\n",
    "    plt.xlabel('Probable Words')\n",
    "    plt.ylabel('Frequency')\n",
    "    plt.show()\n",
    "    return"
   ]
  },
  {
   "cell_type": "markdown",
   "metadata": {},
   "source": [
    "<h4>Find Sequence Probablity with ngrams model </h4><br>\n",
    "The function given the arguments sequence <code> seq </code>, conditional probality distribution\n",
    "<code> pd</code> and <code> ngram </code> returns the probality of the sentence."
   ]
  },
  {
   "cell_type": "code",
   "execution_count": 209,
   "metadata": {},
   "outputs": [],
   "source": [
    "def find_sent_prob(seq, pd1=None, pd2=None, pd3=None, ngram=1):\n",
    "        words=nltk.word_tokenize(seq)\n",
    "        total_prob=1.0\n",
    "        if ngram==1 and pd1 is not None:\n",
    "            for word in nltk.word_tokenize(seq):\n",
    "                total_prob *= (unigram_prob(word, pd1))\n",
    "            return total_prob\n",
    "        elif ngram==2 and pd1 is not None and pd2 is not None:\n",
    "            total_prob *= unigram_prob(words[0], pd1)\n",
    "            for w1, w2 in nltk.ngrams(words, 2):\n",
    "                total_prob *= (conditional_bigram_prob(w1, w2, pd2))\n",
    "        elif ngram==3 and pd1 is not None and pd2 is not None and pd3 is not None:\n",
    "            total_prob *= unigram_prob(words[0], pd1) * conditional_bigram_prob(words[0], words[1], pd2)\n",
    "            for w1, w2, w3 in nltk.ngrams(words,3):\n",
    "                total_prob *= (conditional_trigram_prob(w1, w2, w3, pd3))\n",
    "        else:\n",
    "            print('Check the arguments')\n",
    "            total_prob=0.0\n",
    "        return total_prob"
   ]
  },
  {
   "cell_type": "markdown",
   "metadata": {},
   "source": [
    "<h3> Generate Text Given Seed Word with bigram and trigram model</h3>\n",
    "<p> Generate sentence given the seed word/context <code>intialword</code> ,conditional probality distribution \n",
    "model <code>cprog_2gram</code> and sentence length <code>numwords</code>."
   ]
  },
  {
   "cell_type": "code",
   "execution_count": 142,
   "metadata": {},
   "outputs": [],
   "source": [
    "def generate_txt_bigram_model(cprob_2gram, initialword, numwords=10):\n",
    "    #cprob_2gram = nltk.ConditionalProbDist(cfreq_2gram, nltk.MLEProbDist)\n",
    "    text=initialword\n",
    "    word=initialword\n",
    "    for index in range(numwords):\n",
    "        try:\n",
    "            word = cprob_2gram[word].generate()\n",
    "            text=text +\" \"+word\n",
    "        except Exception as e:\n",
    "            print('Can not generate the sentence')\n",
    "            return\n",
    "    return text"
   ]
  },
  {
   "cell_type": "code",
   "execution_count": 143,
   "metadata": {},
   "outputs": [],
   "source": [
    "def generate_txt_trigram_model(cprob_3gram, initialword1, initialword2, numwords=10):\n",
    "    #cprob_3gram = nltk.ConditionalProbDist(cfreq_3gram, nltk.MLEProbDist)\n",
    "    text=initialword1+\" \"+initialword2\n",
    "    word1=initialword1\n",
    "    word2=initialword2\n",
    "    for index in range(numwords):\n",
    "        try:\n",
    "            word3=cprob_3gram[(word1, word2)].generate()\n",
    "            text=text +\" \"+word3\n",
    "            word1=word2\n",
    "            word2=word3\n",
    "        except Exception as e:\n",
    "            print('Can not generate the sentence')\n",
    "            return\n",
    "    return text"
   ]
  },
  {
   "cell_type": "markdown",
   "metadata": {},
   "source": [
    "<h2>Evaluation with perplexity and cross entropy</h2>\n",
    "<p>The selected corpus is split into training corpus and test corpus. The ngram model is trained on the training\n",
    "corpus and then entropy and perplexity evaluation measure is obtained with the test corpus.</p>\n",
    "<h3> Entropy Calculation:</h3>\n",
    "\\begin{align*}\n",
    "H(ngrams)=-\\Sigma_{x \\in ngrams} p(x)\\log(p(x))\n",
    "\\end{align*}"
   ]
  },
  {
   "cell_type": "markdown",
   "metadata": {},
   "source": [
    "<h3> Below Function provides entropy per ngrams </h3>"
   ]
  },
  {
   "cell_type": "code",
   "execution_count": 220,
   "metadata": {},
   "outputs": [],
   "source": [
    "def entropy(pd, text, ngram):\n",
    "    test_corpus = text\n",
    "    e = 0.0\n",
    "    for i in range(ngram - 1, len(test_corpus)):\n",
    "        context = test_corpus[i - ngram + 1:i]\n",
    "        word = test_corpus[i]\n",
    "        #print(str(context)+\"    \"+token)\n",
    "        e += logprob(word, context, pd)\n",
    "    #retrun e\n",
    "    return e / float(len(text) - (ngram - 1))"
   ]
  },
  {
   "cell_type": "code",
   "execution_count": 221,
   "metadata": {},
   "outputs": [],
   "source": [
    "def logprob(word, context, pd):\n",
    "    if len(context)==0:\n",
    "        p=unigram_prob(word,pd)\n",
    "    elif len(context)==1:\n",
    "        p=conditional_bigram_prob(context[0], word, pd)\n",
    "    else:\n",
    "        p=conditional_trigram_prob(context[0], context[1], word, pd)\n",
    "    try:\n",
    "        val=-p*log(p , 2)\n",
    "    except ValueError:\n",
    "        val=0.0\n",
    "    return val\n",
    "\n",
    "#logprob('at', ['smile'])"
   ]
  },
  {
   "cell_type": "code",
   "execution_count": 222,
   "metadata": {},
   "outputs": [],
   "source": [
    "def perplexity(pd, text, ngram):\n",
    "    test_corpus=text\n",
    "    ent=entropy(pd, text, ngram)\n",
    "    #print(ent)\n",
    "    return pow(2.0, ent)"
   ]
  },
  {
   "cell_type": "markdown",
   "metadata": {},
   "source": [
    "<p> Calling <code>read_filename()</code> function with directory <code>'./wikipedia/'</code> containing \n",
    "wikipedia articles and with other argument denoting number of articles to fetch from the directory.</p>"
   ]
  },
  {
   "cell_type": "code",
   "execution_count": 147,
   "metadata": {},
   "outputs": [],
   "source": [
    "filenames=read_filename('corpus.txt')"
   ]
  },
  {
   "cell_type": "code",
   "execution_count": 148,
   "metadata": {},
   "outputs": [],
   "source": [
    "sents=create_tokens(filenames)"
   ]
  },
  {
   "cell_type": "code",
   "execution_count": 149,
   "metadata": {},
   "outputs": [],
   "source": [
    "train_corpus, test_corpus=train_test_split(sents)"
   ]
  },
  {
   "cell_type": "markdown",
   "metadata": {},
   "source": [
    "<h2>Maximum Likelihood Estimation</h2>\n",
    "<p> <code>ConditionalFreqDist:</code> Conditional frequency distributions are used to record the number of times\n",
    "each word occurred, given the context word and it takes list of bigrams or list generator as argument and \n",
    "returns dictionary of dictionary.</p>\n",
    "<p><code>ConditionalProbDist</code>:A ConditionalProbDist is constructed from two arguments \n",
    "    i.e \"ConditionalFreqDist\" and a \"ProbDist\" factory."
   ]
  },
  {
   "cell_type": "markdown",
   "metadata": {},
   "source": [
    "<h3>Obtaining probality distribution for Unigrams</h3>"
   ]
  },
  {
   "cell_type": "code",
   "execution_count": 150,
   "metadata": {},
   "outputs": [],
   "source": [
    "fd_1gram=ngram_freq_dist(train_corpus, ngram=1)\n",
    "cpd_1gram=nltk.MLEProbDist(fd_1gram)"
   ]
  },
  {
   "cell_type": "markdown",
   "metadata": {},
   "source": [
    "<h3>Obtaining Conditional probality distribution for Bigrams</h3>"
   ]
  },
  {
   "cell_type": "code",
   "execution_count": 151,
   "metadata": {},
   "outputs": [],
   "source": [
    "freq_dist2=ngram_freq_dist(train_corpus, 2)"
   ]
  },
  {
   "cell_type": "code",
   "execution_count": 152,
   "metadata": {},
   "outputs": [
    {
     "data": {
      "text/plain": [
       "FreqDist({'are': 4, 'that': 4, 'and': 4, 'fighting': 3, 'combined': 3, 'welcome': 2, 'remains': 2, 'congrats': 2, 'the': 2, 'must': 2, ...})"
      ]
     },
     "execution_count": 152,
     "metadata": {},
     "output_type": "execute_result"
    }
   ],
   "source": [
    "freq_dist2[\"nations\"]"
   ]
  },
  {
   "cell_type": "code",
   "execution_count": 153,
   "metadata": {},
   "outputs": [],
   "source": [
    "cfd_2gram=ngram_freq_dist(train_corpus, ngram=2) #conditional frequency distribution for bigrams\n",
    "cpd_2gram = nltk.ConditionalProbDist(cfd_2gram, nltk.MLEProbDist) # conditional probality distribution for bigrams"
   ]
  },
  {
   "cell_type": "markdown",
   "metadata": {},
   "source": [
    "<h3>Obtaining Conditional probality distribution for Trigrams</h3>"
   ]
  },
  {
   "cell_type": "code",
   "execution_count": 154,
   "metadata": {},
   "outputs": [],
   "source": [
    "cfd_3gram=ngram_freq_dist(train_corpus, ngram=3)\n",
    "cpd_3gram = nltk.ConditionalProbDist(cfd_3gram, nltk.MLEProbDist)"
   ]
  },
  {
   "cell_type": "markdown",
   "metadata": {},
   "source": [
    "<p>The graph showing probable words and their frequency given context word <code>organization</code>"
   ]
  },
  {
   "cell_type": "code",
   "execution_count": 155,
   "metadata": {},
   "outputs": [
    {
     "data": {
      "image/png": "[encoded data removed]",
      "text/plain": [
       "<Figure size 1080x432 with 1 Axes>"
      ]
     },
     "metadata": {
      "needs_background": "light"
     },
     "output_type": "display_data"
    }
   ],
   "source": [
    "pws_2gram=probable_words('the world health organization', cpd_2gram, 2)\n",
    "#probable words extraction givent context word"
   ]
  },
  {
   "cell_type": "code",
   "execution_count": 156,
   "metadata": {},
   "outputs": [
    {
     "data": {
      "image/png": "[encoded data removed]",
      "text/plain": [
       "<Figure size 1080x432 with 1 Axes>"
      ]
     },
     "metadata": {
      "needs_background": "light"
     },
     "output_type": "display_data"
    }
   ],
   "source": [
    "pws_3gram=probable_words('the world', cpd_3gram, 3)\n",
    "#probable words with trigram model for context word \"the world\""
   ]
  },
  {
   "cell_type": "code",
   "execution_count": 157,
   "metadata": {},
   "outputs": [
    {
     "data": {
      "text/plain": [
       "[('in', 32),\n",
       " ('we', 31),\n",
       " ('and', 24),\n",
       " ('’', 20),\n",
       " ('that', 18),\n",
       " ('today', 17),\n",
       " ('to', 17),\n",
       " ('for', 16),\n",
       " ('not', 15),\n",
       " ('rt', 11),\n",
       " ('but', 10),\n",
       " ('it', 9)]"
      ]
     },
     "execution_count": 157,
     "metadata": {},
     "output_type": "execute_result"
    }
   ],
   "source": [
    "pws_3gram"
   ]
  },
  {
   "cell_type": "code",
   "execution_count": 158,
   "metadata": {},
   "outputs": [],
   "source": [
    "test_sent1='we are always there for you'\n",
    "test_sent2='today that we met each other'"
   ]
  },
  {
   "cell_type": "markdown",
   "metadata": {},
   "source": [
    "<h3> Obtaining probablity of the sentence with ngrams model</h3>"
   ]
  },
  {
   "cell_type": "markdown",
   "metadata": {},
   "source": [
    "<p>With unigram you only need to pass Unigram probality distribution</p>"
   ]
  },
  {
   "cell_type": "code",
   "execution_count": 159,
   "metadata": {},
   "outputs": [
    {
     "name": "stdout",
     "output_type": "stream",
     "text": [
      "3.788798750955186e-17\n"
     ]
    }
   ],
   "source": [
    "prob_1gram=find_sent_prob(test_sent2, cpd_1gram, ngram=1)\n",
    "print(prob_1gram)"
   ]
  },
  {
   "cell_type": "markdown",
   "metadata": {},
   "source": [
    "<p>With Bigram you need to pass both unigram probality distribution and Bigram Probality distribution. It is necessary \n",
    "to assign the ngram parameter as <code>ngarm=2</code> for bigram and <code>ngarm=3</code> for trigram with the argument \n",
    "name, otherwise it will take default as <code>ngram=1</code>.</p> "
   ]
  },
  {
   "cell_type": "code",
   "execution_count": 160,
   "metadata": {},
   "outputs": [
    {
     "name": "stdout",
     "output_type": "stream",
     "text": [
      "4.1694089436899207e-13\n"
     ]
    }
   ],
   "source": [
    "prob_2gram=find_sent_prob(test_sent1, cpd_1gram, cpd_2gram, ngram=2)\n",
    "print(prob_2gram)"
   ]
  },
  {
   "cell_type": "markdown",
   "metadata": {},
   "source": [
    "<p>With trigram you need to pass unigram probality distribution , Bigram Probality distribution and trigram \n",
    "probality distribution</p>"
   ]
  },
  {
   "cell_type": "markdown",
   "metadata": {},
   "source": [
    "<h3>Model Evalution</h3>"
   ]
  },
  {
   "cell_type": "code",
   "execution_count": 161,
   "metadata": {},
   "outputs": [
    {
     "data": {
      "text/plain": [
       "0.0345849965882231"
      ]
     },
     "execution_count": 161,
     "metadata": {},
     "output_type": "execute_result"
    }
   ],
   "source": [
    "entropy(cpd_1gram, test_corpus, 1)"
   ]
  },
  {
   "cell_type": "code",
   "execution_count": 162,
   "metadata": {},
   "outputs": [
    {
     "data": {
      "text/plain": [
       "0.13120521494761928"
      ]
     },
     "execution_count": 162,
     "metadata": {},
     "output_type": "execute_result"
    }
   ],
   "source": [
    "entropy(cpd_2gram, test_corpus, 2)"
   ]
  },
  {
   "cell_type": "code",
   "execution_count": 163,
   "metadata": {},
   "outputs": [
    {
     "data": {
      "text/plain": [
       "0.10459973999814162"
      ]
     },
     "execution_count": 163,
     "metadata": {},
     "output_type": "execute_result"
    }
   ],
   "source": [
    "entropy(cpd_3gram, test_corpus, 3)"
   ]
  },
  {
   "cell_type": "code",
   "execution_count": 164,
   "metadata": {},
   "outputs": [
    {
     "data": {
      "text/plain": [
       "1.0242621429961154"
      ]
     },
     "execution_count": 164,
     "metadata": {},
     "output_type": "execute_result"
    }
   ],
   "source": [
    "perplexity(cpd_1gram, test_corpus, 1)"
   ]
  },
  {
   "cell_type": "code",
   "execution_count": 165,
   "metadata": {},
   "outputs": [
    {
     "data": {
      "text/plain": [
       "1.0952082466938566"
      ]
     },
     "execution_count": 165,
     "metadata": {},
     "output_type": "execute_result"
    }
   ],
   "source": [
    "perplexity(cpd_2gram, test_corpus, 2)"
   ]
  },
  {
   "cell_type": "code",
   "execution_count": 166,
   "metadata": {},
   "outputs": [
    {
     "data": {
      "text/plain": [
       "1.0751960476583675"
      ]
     },
     "execution_count": 166,
     "metadata": {},
     "output_type": "execute_result"
    }
   ],
   "source": [
    "perplexity(cpd_3gram, test_corpus, 3)"
   ]
  },
  {
   "cell_type": "code",
   "execution_count": 167,
   "metadata": {},
   "outputs": [],
   "source": [
    "text_wiki=generate_txt_bigram_model(cpd_2gram, 'the', numwords=10)"
   ]
  },
  {
   "cell_type": "code",
   "execution_count": 168,
   "metadata": {},
   "outputs": [
    {
     "data": {
      "text/plain": [
       "'the us what i do we can help committee member and'"
      ]
     },
     "execution_count": 168,
     "metadata": {},
     "output_type": "execute_result"
    }
   ],
   "source": [
    "text_wiki"
   ]
  },
  {
   "cell_type": "code",
   "execution_count": null,
   "metadata": {},
   "outputs": [],
   "source": []
  },
  {
   "cell_type": "code",
   "execution_count": 169,
   "metadata": {},
   "outputs": [],
   "source": [
    "fd_1gram=ngram_freq_dist(train_corpus, ngram=1)\n",
    "cpd_1gram_with_gt=nltk.SimpleGoodTuringProbDist(fd_1gram)   "
   ]
  },
  {
   "cell_type": "code",
   "execution_count": 170,
   "metadata": {},
   "outputs": [],
   "source": [
    "vocab=len(fd_1gram)"
   ]
  },
  {
   "cell_type": "code",
   "execution_count": 171,
   "metadata": {},
   "outputs": [],
   "source": [
    "cfd_2gram=ngram_freq_dist(train_corpus, ngram=2)\n",
    "cpd_2gram_with_gt = nltk.ConditionalProbDist(cfd_2gram, nltk.SimpleGoodTuringProbDist, bins=pow(vocab,2))"
   ]
  },
  {
   "cell_type": "code",
   "execution_count": 172,
   "metadata": {},
   "outputs": [],
   "source": [
    "cfd_3gram=ngram_freq_dist(train_corpus, ngram=3)\n",
    "cpd_3gram_with_gt = nltk.ConditionalProbDist(cfd_3gram, nltk.SimpleGoodTuringProbDist, bins=pow(vocab,3))"
   ]
  },
  {
   "cell_type": "code",
   "execution_count": 173,
   "metadata": {},
   "outputs": [
    {
     "data": {
      "text/plain": [
       "FreqDist({'going': 1, 'for': 1})"
      ]
     },
     "execution_count": 173,
     "metadata": {},
     "output_type": "execute_result"
    }
   ],
   "source": [
    "cpd_3gram_with_gt[('donald', 'is')].freqdist()"
   ]
  },
  {
   "cell_type": "code",
   "execution_count": 174,
   "metadata": {},
   "outputs": [
    {
     "data": {
      "image/png": "[encoded data removed]",
      "text/plain": [
       "<Figure size 1080x432 with 1 Axes>"
      ]
     },
     "metadata": {
      "needs_background": "light"
     },
     "output_type": "display_data"
    }
   ],
   "source": [
    "pws_3gram=probable_words('the world', cpd_3gram_with_gt, 3)"
   ]
  },
  {
   "cell_type": "code",
   "execution_count": 175,
   "metadata": {},
   "outputs": [],
   "source": [
    "test_sent1='donald trump is going to be the president of us'\n",
    "test_sent2='hillary clinton has no chance against him'"
   ]
  },
  {
   "cell_type": "code",
   "execution_count": 176,
   "metadata": {},
   "outputs": [
    {
     "name": "stdout",
     "output_type": "stream",
     "text": [
      "1.5859337707327208e-21\n"
     ]
    }
   ],
   "source": [
    "prob_1gram=find_sent_prob(test_sent2, cpd_1gram_with_gt)\n",
    "print(prob_1gram)"
   ]
  },
  {
   "cell_type": "code",
   "execution_count": 177,
   "metadata": {},
   "outputs": [
    {
     "name": "stdout",
     "output_type": "stream",
     "text": [
      "7.602219612626636e-30\n"
     ]
    }
   ],
   "source": [
    "prob_2gram=find_sent_prob(test_sent2, cpd_1gram_with_gt, cpd_2gram_with_gt, ngram=2)\n",
    "print(prob_2gram)"
   ]
  },
  {
   "cell_type": "code",
   "execution_count": 178,
   "metadata": {},
   "outputs": [
    {
     "name": "stdout",
     "output_type": "stream",
     "text": [
      "9.242079129142584e-28\n"
     ]
    }
   ],
   "source": [
    "prob_3gram=find_sent_prob(test_sent1, cpd_1gram_with_gt, cpd_2gram_with_gt, cpd_3gram_with_gt, ngram=3)\n",
    "print(prob_3gram)"
   ]
  },
  {
   "cell_type": "code",
   "execution_count": null,
   "metadata": {},
   "outputs": [],
   "source": []
  },
  {
   "cell_type": "code",
   "execution_count": 179,
   "metadata": {},
   "outputs": [
    {
     "data": {
      "text/plain": [
       "0.03544762779687772"
      ]
     },
     "execution_count": 179,
     "metadata": {},
     "output_type": "execute_result"
    }
   ],
   "source": [
    "entropy(cpd_1gram_with_gt, test_corpus, 1)"
   ]
  },
  {
   "cell_type": "code",
   "execution_count": 180,
   "metadata": {},
   "outputs": [
    {
     "data": {
      "text/plain": [
       "0.12911700296835787"
      ]
     },
     "execution_count": 180,
     "metadata": {},
     "output_type": "execute_result"
    }
   ],
   "source": [
    "entropy(cpd_2gram_with_gt, test_corpus, 2)"
   ]
  },
  {
   "cell_type": "code",
   "execution_count": 181,
   "metadata": {},
   "outputs": [
    {
     "data": {
      "text/plain": [
       "0.10178577716111531"
      ]
     },
     "execution_count": 181,
     "metadata": {},
     "output_type": "execute_result"
    }
   ],
   "source": [
    "entropy(cpd_3gram_with_gt, test_corpus, 3)"
   ]
  },
  {
   "cell_type": "code",
   "execution_count": 182,
   "metadata": {},
   "outputs": [
    {
     "data": {
      "text/plain": [
       "1.0248747635928688"
      ]
     },
     "execution_count": 182,
     "metadata": {},
     "output_type": "execute_result"
    }
   ],
   "source": [
    "perplexity(cpd_1gram_with_gt, test_corpus, 1)"
   ]
  },
  {
   "cell_type": "code",
   "execution_count": 183,
   "metadata": {},
   "outputs": [
    {
     "data": {
      "text/plain": [
       "1.0936241471101653"
      ]
     },
     "execution_count": 183,
     "metadata": {},
     "output_type": "execute_result"
    }
   ],
   "source": [
    "perplexity(cpd_2gram_with_gt, test_corpus, 2)"
   ]
  },
  {
   "cell_type": "code",
   "execution_count": 184,
   "metadata": {},
   "outputs": [
    {
     "data": {
      "text/plain": [
       "1.073100931997826"
      ]
     },
     "execution_count": 184,
     "metadata": {},
     "output_type": "execute_result"
    }
   ],
   "source": [
    "perplexity(cpd_3gram_with_gt, test_corpus, 3)"
   ]
  },
  {
   "cell_type": "code",
   "execution_count": 185,
   "metadata": {},
   "outputs": [],
   "source": [
    "def ngram_freq_dist(corpus):\n",
    "    freq_dist = freq_3gram = nltk.FreqDist(ngrams(corpus,3))\n",
    "    return freq_dist"
   ]
  },
  {
   "cell_type": "code",
   "execution_count": 186,
   "metadata": {},
   "outputs": [],
   "source": [
    "def trigram_prob(w1, w2, w3, prob_3gram):\n",
    "    if prob_3gram is not None:\n",
    "        #cprob_3gram=nltk.ConditionalProbDist(cfreq_3gram, nltk.MLEProbDist)\n",
    "        prob=prob_3gram.prob((w1, w2, w3))\n",
    "    else:\n",
    "        print('Probablity distribution is not available')\n",
    "    return prob"
   ]
  },
  {
   "cell_type": "code",
   "execution_count": 215,
   "metadata": {},
   "outputs": [],
   "source": [
    "def entropy(pd, text):\n",
    "    ngram=3\n",
    "    test_corpus = text\n",
    "    e = 0.0\n",
    "    for i in range(ngram - 1, len(test_corpus)):\n",
    "        context = test_corpus[i - ngram + 1:i]\n",
    "        word = test_corpus[i]\n",
    "        #print(str(context)+\"    \"+token)\n",
    "        e += logprob(word, context, pd)\n",
    "    return e / float(len(text) - (ngram - 1))"
   ]
  },
  {
   "cell_type": "code",
   "execution_count": 216,
   "metadata": {},
   "outputs": [],
   "source": [
    "def logprob(word, context, pd):\n",
    "    p=trigram_prob(context[0], context[1], word, pd)\n",
    "    try:\n",
    "        val=-p*log(p , 2)\n",
    "    except ValueError:\n",
    "        val=0.0\n",
    "    return val"
   ]
  },
  {
   "cell_type": "code",
   "execution_count": 217,
   "metadata": {},
   "outputs": [],
   "source": [
    "def perplexity(pd, text):\n",
    "    test_corpus=text\n",
    "    ent=entropy(pd, text)\n",
    "    #print(ent)\n",
    "    return pow(2.0, ent)"
   ]
  },
  {
   "cell_type": "code",
   "execution_count": 218,
   "metadata": {},
   "outputs": [],
   "source": [
    "def find_sent_prob(sent, pd):\n",
    "    total_prob=1\n",
    "    for w1, w2, w3 in nltk.ngrams(nltk.word_tokenize(sent),3):\n",
    "        #print(w1,w2,w3,trigram_prob(w1, w2, w3, pd))\n",
    "        total_prob *= (trigram_prob(w1, w2, w3, pd))\n",
    "    return total_prob"
   ]
  },
  {
   "cell_type": "code",
   "execution_count": 191,
   "metadata": {},
   "outputs": [],
   "source": [
    "fd_3gram=ngram_freq_dist(train_corpus)\n",
    "prob_3gram_kn=nltk.KneserNeyProbDist(fd_3gram) #probality distribution with Kneser ney smoothing"
   ]
  },
  {
   "cell_type": "code",
   "execution_count": 192,
   "metadata": {},
   "outputs": [
    {
     "name": "stdout",
     "output_type": "stream",
     "text": [
      "0.12819762092881873\n",
      "1.092927438474139\n",
      "0.014705882352941176\n"
     ]
    }
   ],
   "source": [
    "print(entropy(prob_3gram_kn, test_corpus))\n",
    "print(perplexity(prob_3gram_kn, test_corpus))\n",
    "print(find_sent_prob('the election is', prob_3gram_kn))"
   ]
  },
  {
   "cell_type": "code",
   "execution_count": null,
   "metadata": {},
   "outputs": [],
   "source": []
  },
  {
   "cell_type": "code",
   "execution_count": 197,
   "metadata": {},
   "outputs": [],
   "source": [
    "fd_1gram=ngram_freq_dist(train_corpus, ngram=1)\n",
    "cpd_1gram_with_add1=nltk.LaplaceProbDist(fd_1gram) #Obtaining probality distribution with Add1 \n",
    "#smoothing for unigram"
   ]
  },
  {
   "cell_type": "code",
   "execution_count": 198,
   "metadata": {},
   "outputs": [],
   "source": [
    "vocab=len(fd_1gram) #vocabulary size"
   ]
  },
  {
   "cell_type": "markdown",
   "metadata": {},
   "source": [
    "<h3>Obtaining conditional probality distribution with Add1 smoothing for Bigrams</h3>"
   ]
  },
  {
   "cell_type": "code",
   "execution_count": 199,
   "metadata": {},
   "outputs": [],
   "source": [
    "cfd_2gram=ngram_freq_dist(train_corpus, ngram=2)\n",
    "cpd_2gram_with_add1 = nltk.ConditionalProbDist(cfd_2gram, nltk.LaplaceProbDist, bins=pow(vocab,2))"
   ]
  },
  {
   "cell_type": "code",
   "execution_count": 200,
   "metadata": {},
   "outputs": [],
   "source": [
    "#cpd_2gram_with_add1 = nltk.ConditionalProbDist(cfd_2gram, nltk.SimpleGoodTuringProbDist, bins=pow(vocab,2))"
   ]
  },
  {
   "cell_type": "code",
   "execution_count": 201,
   "metadata": {},
   "outputs": [],
   "source": [
    "#dict(cpd_2gram_with_add1['azerbaijan'].freqdist())"
   ]
  },
  {
   "cell_type": "markdown",
   "metadata": {},
   "source": [
    "<h3>Obtaining conditional probality distribution with Add1 smoothing for Trigrams</h3>"
   ]
  },
  {
   "cell_type": "code",
   "execution_count": 202,
   "metadata": {},
   "outputs": [],
   "source": [
    "cfd_3gram=ngram_freq_dist(train_corpus, ngram=3)\n",
    "cpd_3gram_with_add1 = nltk.ConditionalProbDist(cfd_3gram, nltk.LaplaceProbDist,bins=pow(vocab,3))"
   ]
  },
  {
   "cell_type": "code",
   "execution_count": 203,
   "metadata": {},
   "outputs": [
    {
     "data": {
      "image/png": "[encoded data removed]",
      "text/plain": [
       "<Figure size 1080x432 with 1 Axes>"
      ]
     },
     "metadata": {
      "needs_background": "light"
     },
     "output_type": "display_data"
    }
   ],
   "source": [
    "pws_2gram=probable_words('this election', cpd_2gram_with_add1, 2)"
   ]
  },
  {
   "cell_type": "code",
   "execution_count": 204,
   "metadata": {},
   "outputs": [
    {
     "data": {
      "image/png": "[encoded data removed]",
      "text/plain": [
       "<Figure size 1080x432 with 1 Axes>"
      ]
     },
     "metadata": {
      "needs_background": "light"
     },
     "output_type": "display_data"
    }
   ],
   "source": [
    "pws_3gram=probable_words('donald trump', cpd_3gram_with_add1, 3)"
   ]
  },
  {
   "cell_type": "code",
   "execution_count": 205,
   "metadata": {},
   "outputs": [
    {
     "data": {
      "text/plain": [
       "[('is', 106),\n",
       " ('has', 46),\n",
       " ('and', 41),\n",
       " ('’', 38),\n",
       " ('says', 34),\n",
       " ('we', 19),\n",
       " ('thinks', 16),\n",
       " ('in', 15),\n",
       " ('i', 14),\n",
       " ('does', 14),\n",
       " ('just', 12),\n",
       " ('would', 12)]"
      ]
     },
     "execution_count": 205,
     "metadata": {},
     "output_type": "execute_result"
    }
   ],
   "source": [
    "pws_3gram"
   ]
  },
  {
   "cell_type": "code",
   "execution_count": 206,
   "metadata": {},
   "outputs": [],
   "source": [
    "test_sent1='iran has an embassy in baku'\n",
    "test_sent2='iran embassy has an in baku'"
   ]
  },
  {
   "cell_type": "code",
   "execution_count": 207,
   "metadata": {},
   "outputs": [
    {
     "name": "stdout",
     "output_type": "stream",
     "text": [
      "4.615872791148927e-24\n"
     ]
    }
   ],
   "source": [
    "prob_1gram=find_sent_prob(test_sent2, cpd_1gram_with_add1)\n",
    "print(prob_1gram)"
   ]
  },
  {
   "cell_type": "code",
   "execution_count": 210,
   "metadata": {},
   "outputs": [
    {
     "name": "stdout",
     "output_type": "stream",
     "text": [
      "7.673501276206689e-46\n"
     ]
    }
   ],
   "source": [
    "prob_2gram=find_sent_prob(test_sent2,cpd_1gram_with_add1, cpd_2gram_with_add1, ngram=2)\n",
    "print(prob_2gram)"
   ]
  },
  {
   "cell_type": "code",
   "execution_count": 211,
   "metadata": {},
   "outputs": [
    {
     "name": "stdout",
     "output_type": "stream",
     "text": [
      "1.0780764003263735e-64\n"
     ]
    }
   ],
   "source": [
    "prob_3gram=find_sent_prob(test_sent1,cpd_1gram_with_add1, cpd_2gram_with_add1, cpd_3gram_with_add1, ngram=3)\n",
    "print(prob_3gram)"
   ]
  },
  {
   "cell_type": "code",
   "execution_count": 223,
   "metadata": {},
   "outputs": [
    {
     "data": {
      "text/plain": [
       "0.03377643415592588"
      ]
     },
     "execution_count": 223,
     "metadata": {},
     "output_type": "execute_result"
    }
   ],
   "source": [
    "entropy(cpd_1gram_with_add1, test_corpus, 1)"
   ]
  },
  {
   "cell_type": "code",
   "execution_count": 224,
   "metadata": {},
   "outputs": [
    {
     "data": {
      "text/plain": [
       "4.353086136137428e-06"
      ]
     },
     "execution_count": 224,
     "metadata": {},
     "output_type": "execute_result"
    }
   ],
   "source": [
    "entropy(cpd_2gram_with_add1, test_corpus, 2)"
   ]
  },
  {
   "cell_type": "code",
   "execution_count": 225,
   "metadata": {
    "scrolled": true
   },
   "outputs": [
    {
     "data": {
      "text/plain": [
       "3.412765555323953e-11"
      ]
     },
     "execution_count": 225,
     "metadata": {},
     "output_type": "execute_result"
    }
   ],
   "source": [
    "entropy(cpd_3gram_with_add1, test_corpus, 3)"
   ]
  },
  {
   "cell_type": "code",
   "execution_count": 226,
   "metadata": {},
   "outputs": [
    {
     "data": {
      "text/plain": [
       "1.0236882532746714"
      ]
     },
     "execution_count": 226,
     "metadata": {},
     "output_type": "execute_result"
    }
   ],
   "source": [
    "perplexity(cpd_1gram_with_add1, test_corpus, 1)"
   ]
  },
  {
   "cell_type": "code",
   "execution_count": 227,
   "metadata": {},
   "outputs": [
    {
     "data": {
      "text/plain": [
       "1.000003017333934"
      ]
     },
     "execution_count": 227,
     "metadata": {},
     "output_type": "execute_result"
    }
   ],
   "source": [
    "perplexity(cpd_2gram_with_add1, test_corpus, 2)"
   ]
  },
  {
   "cell_type": "code",
   "execution_count": 228,
   "metadata": {},
   "outputs": [
    {
     "data": {
      "text/plain": [
       "1.0000000000236555"
      ]
     },
     "execution_count": 228,
     "metadata": {},
     "output_type": "execute_result"
    }
   ],
   "source": [
    "perplexity(cpd_3gram_with_add1, test_corpus, 3)"
   ]
  },
  {
   "cell_type": "markdown",
   "metadata": {},
   "source": [
    "*Kneser-Ney Smoothing</h"
   ]
  },
  {
   "cell_type": "code",
   "execution_count": 45,
   "metadata": {},
   "outputs": [],
   "source": [
    "fd_3gram=ngram_freq_dist(train_corpus)\n",
    "prob_3gram_kn=nltk.KneserNeyProbDist(fd_3gram) #probality distribution with Kneser ney smoothing"
   ]
  },
  {
   "cell_type": "code",
   "execution_count": 46,
   "metadata": {},
   "outputs": [
    {
     "name": "stdout",
     "output_type": "stream",
     "text": [
      "0.06477206784606931\n",
      "1.0459196813335965\n",
      "0.10889175257731959\n"
     ]
    }
   ],
   "source": [
    "print(entropy(prob_3gram_kn, test_corpus))\n",
    "print(perplexity(prob_3gram_kn, test_corpus))\n",
    "print(find_sent_prob('the united nations',prob_3gram_kn))"
   ]
  },
  {
   "cell_type": "code",
   "execution_count": null,
   "metadata": {},
   "outputs": [],
   "source": []
  },
  {
   "cell_type": "code",
   "execution_count": null,
   "metadata": {},
   "outputs": [],
   "source": []
  },
  {
   "cell_type": "code",
   "execution_count": null,
   "metadata": {},
   "outputs": [],
   "source": []
  }
 ],
 "metadata": {
  "kernelspec": {
   "display_name": "Python 3",
   "language": "python",
   "name": "python3"
  },
  "language_info": {
   "codemirror_mode": {
    "name": "ipython",
    "version": 3
   },
   "file_extension": ".py",
   "mimetype": "text/x-python",
   "name": "python",
   "nbconvert_exporter": "python",
   "pygments_lexer": "ipython3",
   "version": "3.6.9"
  }
 },
 "nbformat": 4,
 "nbformat_minor": 4
}
